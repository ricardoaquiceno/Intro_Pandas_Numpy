{
  "nbformat": 4,
  "nbformat_minor": 0,
  "metadata": {
    "colab": {
      "name": "NumpyBasics.ipynb",
      "provenance": [],
      "authorship_tag": "ABX9TyOtCuud66CY2hsiU+FD5KMD",
      "include_colab_link": true
    },
    "kernelspec": {
      "name": "python3",
      "display_name": "Python 3"
    },
    "language_info": {
      "name": "python"
    }
  },
  "cells": [
    {
      "cell_type": "markdown",
      "metadata": {
        "id": "view-in-github",
        "colab_type": "text"
      },
      "source": [
        "<a href=\"https://colab.research.google.com/github/ricardoaquiceno/Intro_Pandas_Numpy/blob/main/NumpyBasics.ipynb\" target=\"_parent\"><img src=\"https://colab.research.google.com/assets/colab-badge.svg\" alt=\"Open In Colab\"/></a>"
      ]
    },
    {
      "cell_type": "code",
      "execution_count": 3,
      "metadata": {
        "id": "fkMR0pgGg-O0"
      },
      "outputs": [],
      "source": [
        "import numpy as np"
      ]
    },
    {
      "cell_type": "code",
      "source": [
        "my_list=[1,2,3,5,6,4]\n",
        "print(my_list)"
      ],
      "metadata": {
        "colab": {
          "base_uri": "https://localhost:8080/"
        },
        "id": "8M6MHeT5ieTf",
        "outputId": "ae8afc50-2232-4ed9-e14a-21d3171dfd77"
      },
      "execution_count": 1,
      "outputs": [
        {
          "output_type": "stream",
          "name": "stdout",
          "text": [
            "[1, 2, 3, 5, 6, 4]\n"
          ]
        }
      ]
    },
    {
      "cell_type": "code",
      "source": [
        "my_nparray=np.array(my_list)\n",
        "my_npmatrix=np.array([[1,2,3],[4,5,6],[7,8,9]])\n",
        "print(my_npmatrix)\n",
        "type(my_nparray)"
      ],
      "metadata": {
        "colab": {
          "base_uri": "https://localhost:8080/"
        },
        "id": "QQYYIJSNiypZ",
        "outputId": "8b0cc6ce-4a22-43b4-d810-a773eb414abe"
      },
      "execution_count": 9,
      "outputs": [
        {
          "output_type": "stream",
          "name": "stdout",
          "text": [
            "[[1 2 3]\n",
            " [4 5 6]\n",
            " [7 8 9]]\n"
          ]
        },
        {
          "output_type": "execute_result",
          "data": {
            "text/plain": [
              "numpy.ndarray"
            ]
          },
          "metadata": {},
          "execution_count": 9
        }
      ]
    },
    {
      "cell_type": "code",
      "source": [
        "#To index arrays and matrixes\n",
        "print(my_nparray[2])\n",
        "print(\"Matrix index 0,1: \", my_npmatrix[0,1])\n",
        "print(\"Matrix index 1,2: \", my_npmatrix[1,2])"
      ],
      "metadata": {
        "colab": {
          "base_uri": "https://localhost:8080/"
        },
        "id": "6-V7LBxLnW98",
        "outputId": "d3d86896-9cf6-4e34-fc17-dab0cddaba78"
      },
      "execution_count": 14,
      "outputs": [
        {
          "output_type": "stream",
          "name": "stdout",
          "text": [
            "3\n",
            "index 0,1:  2\n",
            "index 1,2:  6\n"
          ]
        }
      ]
    },
    {
      "cell_type": "code",
      "source": [
        "#SLICING\n",
        "arr= np.array([1,2,3,4,5])\n",
        "print(len(arr))\n",
        "print(arr[0:2])\n",
        "print(my_npmatrix[0:2,1:])"
      ],
      "metadata": {
        "colab": {
          "base_uri": "https://localhost:8080/"
        },
        "id": "zdIqNiljn8RE",
        "outputId": "5573cdc2-146f-4ef1-98df-c97973ab1c69"
      },
      "execution_count": 40,
      "outputs": [
        {
          "output_type": "stream",
          "name": "stdout",
          "text": [
            "5\n",
            "[1 2]\n",
            "[[2 3]\n",
            " [5 6]]\n"
          ]
        }
      ]
    }
  ]
}