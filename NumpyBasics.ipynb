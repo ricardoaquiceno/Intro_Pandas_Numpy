{
  "nbformat": 4,
  "nbformat_minor": 0,
  "metadata": {
    "colab": {
      "name": "NumpyBasics.ipynb",
      "provenance": [],
      "collapsed_sections": [
        "F65ow1A8kr2V",
        "c8IFZYwhk2xz",
        "eSS6bO0BzJZ-",
        "xIZniEbwdeFV",
        "x63eoaF-5N_a"
      ],
      "authorship_tag": "ABX9TyOvPTeFR1teNyJha5OD9rUk",
      "include_colab_link": true
    },
    "kernelspec": {
      "name": "python3",
      "display_name": "Python 3"
    },
    "language_info": {
      "name": "python"
    }
  },
  "cells": [
    {
      "cell_type": "markdown",
      "metadata": {
        "id": "view-in-github",
        "colab_type": "text"
      },
      "source": [
        "<a href=\"https://colab.research.google.com/github/ricardoaquiceno/Intro_Pandas_Numpy/blob/main/NumpyBasics.ipynb\" target=\"_parent\"><img src=\"https://colab.research.google.com/assets/colab-badge.svg\" alt=\"Open In Colab\"/></a>"
      ]
    },
    {
      "cell_type": "code",
      "execution_count": 1,
      "metadata": {
        "id": "fkMR0pgGg-O0"
      },
      "outputs": [],
      "source": [
        "import numpy as np"
      ]
    },
    {
      "cell_type": "markdown",
      "source": [
        "## Basics about arrays, index and matrix"
      ],
      "metadata": {
        "id": "F65ow1A8kr2V"
      }
    },
    {
      "cell_type": "code",
      "source": [
        "my_list=[1,2,3,5,6,4]\n",
        "print(my_list)"
      ],
      "metadata": {
        "colab": {
          "base_uri": "https://localhost:8080/"
        },
        "id": "8M6MHeT5ieTf",
        "outputId": "ae8afc50-2232-4ed9-e14a-21d3171dfd77"
      },
      "execution_count": null,
      "outputs": [
        {
          "output_type": "stream",
          "name": "stdout",
          "text": [
            "[1, 2, 3, 5, 6, 4]\n"
          ]
        }
      ]
    },
    {
      "cell_type": "code",
      "source": [
        "my_nparray=np.array(my_list)\n",
        "my_npmatrix=np.array([[1,2,3],[4,5,6],[7,8,9]])\n",
        "print(my_npmatrix)\n",
        "type(my_nparray)"
      ],
      "metadata": {
        "colab": {
          "base_uri": "https://localhost:8080/"
        },
        "id": "QQYYIJSNiypZ",
        "outputId": "8b0cc6ce-4a22-43b4-d810-a773eb414abe"
      },
      "execution_count": null,
      "outputs": [
        {
          "output_type": "stream",
          "name": "stdout",
          "text": [
            "[[1 2 3]\n",
            " [4 5 6]\n",
            " [7 8 9]]\n"
          ]
        },
        {
          "output_type": "execute_result",
          "data": {
            "text/plain": [
              "numpy.ndarray"
            ]
          },
          "metadata": {},
          "execution_count": 9
        }
      ]
    },
    {
      "cell_type": "code",
      "source": [
        "#To index arrays and matrixes\n",
        "print(my_nparray[2])\n",
        "print(\"Matrix index 0,1: \", my_npmatrix[0,1])\n",
        "print(\"Matrix index 1,2: \", my_npmatrix[1,2])"
      ],
      "metadata": {
        "colab": {
          "base_uri": "https://localhost:8080/"
        },
        "id": "6-V7LBxLnW98",
        "outputId": "d3d86896-9cf6-4e34-fc17-dab0cddaba78"
      },
      "execution_count": null,
      "outputs": [
        {
          "output_type": "stream",
          "name": "stdout",
          "text": [
            "3\n",
            "index 0,1:  2\n",
            "index 1,2:  6\n"
          ]
        }
      ]
    },
    {
      "cell_type": "code",
      "source": [
        "#SLICING\n",
        "arr= np.array([1,2,3,4,5])\n",
        "print(len(arr))\n",
        "print(arr[0:2])\n",
        "print(my_npmatrix[0:2,1:])"
      ],
      "metadata": {
        "colab": {
          "base_uri": "https://localhost:8080/"
        },
        "id": "zdIqNiljn8RE",
        "outputId": "5573cdc2-146f-4ef1-98df-c97973ab1c69"
      },
      "execution_count": null,
      "outputs": [
        {
          "output_type": "stream",
          "name": "stdout",
          "text": [
            "5\n",
            "[1 2]\n",
            "[[2 3]\n",
            " [5 6]]\n"
          ]
        }
      ]
    },
    {
      "cell_type": "markdown",
      "source": [
        "## Data Types in Numpy\n"
      ],
      "metadata": {
        "id": "c8IFZYwhk2xz"
      }
    },
    {
      "cell_type": "markdown",
      "source": [
        "data types can be found here: https://numpy.org/doc/stable/user/basics.types.html\n",
        "\n",
        "**WARNING: numpy arrays ONLY ACCEPT ONY TYPE OF VARIABLE PER ARRAY. **\n"
      ],
      "metadata": {
        "id": "jmZC9k9arrHV"
      }
    },
    {
      "cell_type": "code",
      "source": [
        "#First, lets see what type is our previously created array\n",
        "my_list=[1,2,3,5,6,4]\n",
        "my_nparray=np.array(my_list)\n",
        "my_nparray.dtype"
      ],
      "metadata": {
        "colab": {
          "base_uri": "https://localhost:8080/"
        },
        "id": "9ad-uNKwk83T",
        "outputId": "abbe0b46-813a-4baf-c45c-53d71cfe2779"
      },
      "execution_count": null,
      "outputs": [
        {
          "output_type": "execute_result",
          "data": {
            "text/plain": [
              "dtype('int64')"
            ]
          },
          "metadata": {},
          "execution_count": 4
        }
      ]
    },
    {
      "cell_type": "code",
      "source": [
        "#We can modify the default type of the array by adding an additional parameter to the function np.array( ) \n",
        "new_array=np.array(my_list, dtype=\"float64\")\n",
        "print(new_array)\n",
        "print(new_array.dtype)"
      ],
      "metadata": {
        "colab": {
          "base_uri": "https://localhost:8080/"
        },
        "id": "nU9aM3G4nKl3",
        "outputId": "34988bfc-4a50-4e4a-b9f2-a3ed7f94d175"
      },
      "execution_count": null,
      "outputs": [
        {
          "output_type": "stream",
          "name": "stdout",
          "text": [
            "[1. 2. 3. 5. 6. 4.]\n",
            "float64\n"
          ]
        }
      ]
    },
    {
      "cell_type": "code",
      "source": [
        "#we can also modify the type of an already created array\n",
        "array=np.array([0,1,0,2,3,5,9])\n",
        "print(array.dtype)\n",
        "print(array)\n",
        "array=array.astype(np.float64) #Converting to float 64\n",
        "print(array.dtype)\n",
        "print(array)\n",
        "array=array.astype(np.bool_) #Converting to Booleans: Note that when using Bool, all non zero values are true and only zero values are false. \n",
        "print(array.dtype)\n",
        "print(array)\n",
        "array=np.array([0,1,0,2,3,5,9])\n",
        "array=array.astype(np.string_) #Note that when using string, the system transforms to the string representation of the numbers\n",
        "#Take into account that one cannot convert from a string to an int if the string is not a numeric representation, so 'hola' cannot be converted from \n",
        "#string to Int\n",
        "print(array.dtype)\n",
        "print(array)\n"
      ],
      "metadata": {
        "colab": {
          "base_uri": "https://localhost:8080/"
        },
        "id": "gA6grh-vpkKz",
        "outputId": "b93a2a4d-8faa-464f-da1d-147605384b22"
      },
      "execution_count": null,
      "outputs": [
        {
          "output_type": "stream",
          "name": "stdout",
          "text": [
            "int64\n",
            "[0 1 0 2 3 5 9]\n",
            "float64\n",
            "[0. 1. 0. 2. 3. 5. 9.]\n",
            "bool\n",
            "[False  True False  True  True  True  True]\n",
            "|S21\n",
            "[b'0' b'1' b'0' b'2' b'3' b'5' b'9']\n"
          ]
        }
      ]
    },
    {
      "cell_type": "markdown",
      "source": [
        "## Dimensiones\n"
      ],
      "metadata": {
        "id": "eSS6bO0BzJZ-"
      }
    },
    {
      "cell_type": "code",
      "source": [
        "# We create an scalar wich has dimension 0\n",
        "scalar= np.array(12)\n",
        "print(scalar)\n",
        "scalar.ndim"
      ],
      "metadata": {
        "colab": {
          "base_uri": "https://localhost:8080/"
        },
        "id": "pbudxwdp1Rtk",
        "outputId": "7ee69540-94ab-4b9e-ef7d-58b40219e215"
      },
      "execution_count": null,
      "outputs": [
        {
          "output_type": "stream",
          "name": "stdout",
          "text": [
            "12\n"
          ]
        },
        {
          "output_type": "execute_result",
          "data": {
            "text/plain": [
              "0"
            ]
          },
          "metadata": {},
          "execution_count": 11
        }
      ]
    },
    {
      "cell_type": "code",
      "source": [
        "# We create a vector wich has dimension 1\n",
        "vector= np.array([1,2,3])\n",
        "print(vector)\n",
        "vector.ndim"
      ],
      "metadata": {
        "colab": {
          "base_uri": "https://localhost:8080/"
        },
        "id": "aBk-VR0416Sw",
        "outputId": "3bcf9b14-ecb8-4c7b-b92d-99d000c305e4"
      },
      "execution_count": null,
      "outputs": [
        {
          "output_type": "stream",
          "name": "stdout",
          "text": [
            "[1 2 3]\n"
          ]
        },
        {
          "output_type": "execute_result",
          "data": {
            "text/plain": [
              "1"
            ]
          },
          "metadata": {},
          "execution_count": 12
        }
      ]
    },
    {
      "cell_type": "code",
      "source": [
        "# We create a Matrix wich has dimension 2\n",
        "matrix= np.array([[1,2,3],[3,4,5]])\n",
        "print(matrix)\n",
        "matrix.ndim"
      ],
      "metadata": {
        "colab": {
          "base_uri": "https://localhost:8080/"
        },
        "id": "NjmZgQdA2RPk",
        "outputId": "98dca5d4-e504-46ac-fe9f-585dddd9bea0"
      },
      "execution_count": null,
      "outputs": [
        {
          "output_type": "stream",
          "name": "stdout",
          "text": [
            "[[1 2 3]\n",
            " [3 4 5]]\n"
          ]
        },
        {
          "output_type": "execute_result",
          "data": {
            "text/plain": [
              "2"
            ]
          },
          "metadata": {},
          "execution_count": 14
        }
      ]
    },
    {
      "cell_type": "code",
      "source": [
        "# We create an object wich has dimension 3\n",
        "#IMPORTANT the amount of squared braces \"[]\" helps to determine the amount of dimensions when one creates them. see that here at the\n",
        "#we have np.array([[[.....]]])\n",
        "threedob= np.array([[[1,2,3],[3,4,5]],[[6,7,8],[9,10,11]]])\n",
        "print(threedob)\n",
        "threedob.ndim"
      ],
      "metadata": {
        "colab": {
          "base_uri": "https://localhost:8080/"
        },
        "id": "LVJpY_G42hTf",
        "outputId": "b7fb9bc9-faa2-40a4-9a2e-9e934e18efa4"
      },
      "execution_count": null,
      "outputs": [
        {
          "output_type": "stream",
          "name": "stdout",
          "text": [
            "[[[ 1  2  3]\n",
            "  [ 3  4  5]]\n",
            "\n",
            " [[ 6  7  8]\n",
            "  [ 9 10 11]]]\n"
          ]
        },
        {
          "output_type": "execute_result",
          "data": {
            "text/plain": [
              "3"
            ]
          },
          "metadata": {},
          "execution_count": 17
        }
      ]
    },
    {
      "cell_type": "markdown",
      "source": [
        "ADD or remove dimensions\n"
      ],
      "metadata": {
        "id": "3O8m0UcF4nAr"
      }
    },
    {
      "cell_type": "code",
      "source": [
        "#We can create an object with the desired dimentions when declaring it and adding the parameter ndmin=n\n",
        "vector= np.array([1,2,3],ndmin=10)\n",
        "print(vector)\n",
        "vector.ndim"
      ],
      "metadata": {
        "colab": {
          "base_uri": "https://localhost:8080/"
        },
        "id": "vAEQ3C7F5QgI",
        "outputId": "a63874b8-5c39-49cc-ebcd-65d3e185ded9"
      },
      "execution_count": null,
      "outputs": [
        {
          "output_type": "stream",
          "name": "stdout",
          "text": [
            "[[[[[[[[[[1 2 3]]]]]]]]]]\n"
          ]
        },
        {
          "output_type": "execute_result",
          "data": {
            "text/plain": [
              "10"
            ]
          },
          "metadata": {},
          "execution_count": 18
        }
      ]
    },
    {
      "cell_type": "code",
      "source": [
        "#To remove dimensions that we are not using we can use np.squeeze(my_array)\n",
        "print(\"vector1 = \", vector)\n",
        "print(\" dim \", vector.ndim)\n",
        "vector2=np.squeeze(vector)\n",
        "print(\"vector2 = \",vector2)\n",
        "print(\" dim \",vector2.ndim)"
      ],
      "metadata": {
        "colab": {
          "base_uri": "https://localhost:8080/"
        },
        "id": "UlsFJAxtiw6e",
        "outputId": "e0f96fdd-1d11-4a88-ba0d-1c94ed8a428a"
      },
      "execution_count": null,
      "outputs": [
        {
          "output_type": "stream",
          "name": "stdout",
          "text": [
            "vector1 =  [[[[[[[[[[1 2 3]]]]]]]]]]\n",
            " dim  10\n",
            "vector2 =  [1 2 3]\n",
            " dim  1\n"
          ]
        }
      ]
    },
    {
      "cell_type": "code",
      "source": [
        "#We can create an object with the desired dimentions when declaring it and adding the parameter ndmin=n\n",
        "# https://numpy.org/doc/stable/reference/generated/numpy.expand_dims.html?highlight=numpy%20expand#numpy.expand_dims\n",
        "expand= np.expand_dims(np.array([1,2,3]),axis=0)\n",
        "print(expand)\n",
        "expand.ndim"
      ],
      "metadata": {
        "colab": {
          "base_uri": "https://localhost:8080/"
        },
        "id": "ydUKy-AF6o-L",
        "outputId": "75fd187e-a395-49da-e277-bf10f92f0ddd"
      },
      "execution_count": null,
      "outputs": [
        {
          "output_type": "stream",
          "name": "stdout",
          "text": [
            "[[1 2 3]]\n"
          ]
        },
        {
          "output_type": "execute_result",
          "data": {
            "text/plain": [
              "2"
            ]
          },
          "metadata": {},
          "execution_count": 29
        }
      ]
    },
    {
      "cell_type": "markdown",
      "source": [
        "## Creando arrays en Numpy"
      ],
      "metadata": {
        "id": "xIZniEbwdeFV"
      }
    },
    {
      "cell_type": "code",
      "source": [
        "#As python has range(start, end, step), numpy has np.arange(start,end, step), the difference is that \n",
        "# range creates and iterable object and to turn it into a list, we need to cast it like list(py_range)\n",
        "py_range=range(0,10)\n",
        "np_arange=np.arange(0,10)\n",
        "print(py_range)\n",
        "print(list(py_range))\n",
        "print(np_arange)"
      ],
      "metadata": {
        "colab": {
          "base_uri": "https://localhost:8080/"
        },
        "id": "yRFOTWcQdhfK",
        "outputId": "84fe74c0-e96c-4700-c541-657265911e97"
      },
      "execution_count": 5,
      "outputs": [
        {
          "output_type": "stream",
          "name": "stdout",
          "text": [
            "range(0, 10)\n",
            "[0, 1, 2, 3, 4, 5, 6, 7, 8, 9]\n",
            "[0 1 2 3 4 5 6 7 8 9]\n"
          ]
        }
      ]
    },
    {
      "cell_type": "code",
      "source": [
        "#ZEROS this is an important function to create matrixes that contain zeros\n",
        "#IMPORTANT: it receives a tuple () that defines the dimensions (rows,columns,3rddim,4thdim, ndim) \n",
        "zeros=np.zeros((2,2,2))\n",
        "zeros"
      ],
      "metadata": {
        "colab": {
          "base_uri": "https://localhost:8080/"
        },
        "id": "2OxwUrTmeKuS",
        "outputId": "931fe9cf-1fa6-444f-d50d-6e7c1bcd7eaf"
      },
      "execution_count": 10,
      "outputs": [
        {
          "output_type": "execute_result",
          "data": {
            "text/plain": [
              "array([[[0., 0.],\n",
              "        [0., 0.]],\n",
              "\n",
              "       [[0., 0.],\n",
              "        [0., 0.]]])"
            ]
          },
          "metadata": {},
          "execution_count": 10
        }
      ]
    },
    {
      "cell_type": "code",
      "source": [
        "#ONES this is an important function to create matrixes that contain ones\n",
        "#IMPORTANT: it receives a tuple () that defines the dimensions (rows,columns,3rddim,4thdim, ndim) \n",
        "ones=np.ones((2,2,2))\n",
        "ones\n",
        "twos=2*ones\n"
      ],
      "metadata": {
        "colab": {
          "base_uri": "https://localhost:8080/"
        },
        "id": "YIdBbm8sgLRQ",
        "outputId": "fc078605-d66d-4aad-9f7a-ac84656901df"
      },
      "execution_count": 12,
      "outputs": [
        {
          "output_type": "execute_result",
          "data": {
            "text/plain": [
              "array([[[2., 2.],\n",
              "        [2., 2.]],\n",
              "\n",
              "       [[2., 2.],\n",
              "        [2., 2.]]])"
            ]
          },
          "metadata": {},
          "execution_count": 12
        }
      ]
    },
    {
      "cell_type": "code",
      "source": [
        "#With linspace(start,end,#elements), one can create an array of #elemnts from start to end equaly spaced between them.\n",
        "a= np.linspace(0,4,3 )\n",
        "N=8\n",
        "x1 = np.linspace(0, 10, N, endpoint=True)#the flag endpoint says if the end is inclusive or not, by default is\n",
        "x2 = np.linspace(0, 10, N, endpoint=False)\n",
        "print(a)\n",
        "print(x1)\n",
        "print(x2)\n"
      ],
      "metadata": {
        "colab": {
          "base_uri": "https://localhost:8080/"
        },
        "id": "fxdxFqYRhV5n",
        "outputId": "cc292d86-ddf9-44a8-b3c2-3a073289f96d"
      },
      "execution_count": 20,
      "outputs": [
        {
          "output_type": "stream",
          "name": "stdout",
          "text": [
            "[0. 2. 4.]\n",
            "[ 0.          1.42857143  2.85714286  4.28571429  5.71428571  7.14285714\n",
            "  8.57142857 10.        ]\n",
            "[0.   1.25 2.5  3.75 5.   6.25 7.5  8.75]\n"
          ]
        }
      ]
    },
    {
      "cell_type": "code",
      "source": [
        "#EYE it is a function to generate an identity matrix 2dims, the parameter n=rows=colums as is an identity matrix\n",
        "identity=np.eye(4)\n",
        "identity"
      ],
      "metadata": {
        "colab": {
          "base_uri": "https://localhost:8080/"
        },
        "id": "pXj1grR1j-OT",
        "outputId": "d6f8e3b3-b9a9-4e29-dc80-c16af13123a1"
      },
      "execution_count": 21,
      "outputs": [
        {
          "output_type": "execute_result",
          "data": {
            "text/plain": [
              "array([[1., 0., 0., 0.],\n",
              "       [0., 1., 0., 0.],\n",
              "       [0., 0., 1., 0.],\n",
              "       [0., 0., 0., 1.]])"
            ]
          },
          "metadata": {},
          "execution_count": 21
        }
      ]
    },
    {
      "cell_type": "code",
      "source": [
        "#random.rand(rows,columns,3dim...) and random.randint(start,end,(rows,cols,3dim...))\n",
        "random=np.random.rand(2,3,2)\n",
        "print(random)\n",
        "randomint=np.random.randint(1,100,(3,3))\n",
        "print(randomint)"
      ],
      "metadata": {
        "colab": {
          "base_uri": "https://localhost:8080/"
        },
        "id": "3V24DFknk2cd",
        "outputId": "6345eff2-c558-467b-f7ac-2d0a1e45429a"
      },
      "execution_count": 23,
      "outputs": [
        {
          "output_type": "stream",
          "name": "stdout",
          "text": [
            "[[[0.37686704 0.01331657]\n",
            "  [0.0693115  0.46715222]\n",
            "  [0.8814954  0.95970342]]\n",
            "\n",
            " [[0.00999663 0.3718671 ]\n",
            "  [0.08890964 0.21264332]\n",
            "  [0.38764649 0.85706195]]]\n",
            "[[36  7 63]\n",
            " [29 26 71]\n",
            " [29 13 71]]\n"
          ]
        }
      ]
    },
    {
      "cell_type": "markdown",
      "source": [
        "# shape and reshape\n",
        "https://numpy.org/doc/stable/reference/generated/numpy.reshape.html#numpy.reshape"
      ],
      "metadata": {
        "id": "x63eoaF-5N_a"
      }
    },
    {
      "cell_type": "code",
      "source": [
        "#shape is a function that helps us to know the dimensions of an array, not the number of dimensions but the amount of rows, columns, 3d and so on\n",
        "arr= np.random.randint(1,10,(3,3))\n",
        "print(arr)\n",
        "print(\"\\n the shape of the array is:\", arr.shape)"
      ],
      "metadata": {
        "colab": {
          "base_uri": "https://localhost:8080/"
        },
        "id": "exnokJUV5T-u",
        "outputId": "13dafbab-c9e5-47f1-b6f5-fece74c8179f"
      },
      "execution_count": 26,
      "outputs": [
        {
          "output_type": "stream",
          "name": "stdout",
          "text": [
            "[[4 7 9]\n",
            " [2 6 3]\n",
            " [1 5 4]]\n",
            "\n",
            " the shape of the array is:  (3, 3)\n"
          ]
        }
      ]
    },
    {
      "cell_type": "code",
      "source": [
        "# on the other hand, reshape allows us to re accommodate the previously mentioned dimensions\n",
        "arr2=arr.reshape(1,9) #one can directly aply the method reshape to an array \n",
        "#one can also call np.reshape(array, (rows,cols...))\n",
        "arr3=np.reshape(arr2,(9,1))\n",
        "\n",
        "print(arr2)\n",
        "print(arr3)\n",
        "\n"
      ],
      "metadata": {
        "colab": {
          "base_uri": "https://localhost:8080/"
        },
        "id": "IxYe3Auk7d51",
        "outputId": "bba12f89-e64e-42bf-b73b-d407cd151172"
      },
      "execution_count": 29,
      "outputs": [
        {
          "output_type": "stream",
          "name": "stdout",
          "text": [
            "[[4 7 9 2 6 3 1 5 4]]\n",
            "[[4]\n",
            " [7]\n",
            " [9]\n",
            " [2]\n",
            " [6]\n",
            " [3]\n",
            " [1]\n",
            " [5]\n",
            " [4]]\n"
          ]
        }
      ]
    },
    {
      "cell_type": "code",
      "source": [
        "#One can re shape with 3 options 'C','F', 'A'\n",
        "reshapeex=np.random.randint(1,10,(4,3))\n",
        "print(reshapeex)\n",
        "print(\"este es el F \\n\", reshapeex.reshape(6,2,order='F'))#F is the option to reshape reading through the columns in order\n",
        "print(\"este es el C \\n\", reshapeex.reshape(6,2,order='C'))#C is the option to reshape reading through the rows in order\n",
        "print(\"este es el A \\n\", reshapeex.reshape(6,2,order='A'))# Chooses whichever is the most efficient for the specific environment"
      ],
      "metadata": {
        "colab": {
          "base_uri": "https://localhost:8080/"
        },
        "id": "vOj3bRNh8Iao",
        "outputId": "25adf415-2120-4d68-9555-dcce07e4f395"
      },
      "execution_count": 40,
      "outputs": [
        {
          "output_type": "stream",
          "name": "stdout",
          "text": [
            "[[1 4 6]\n",
            " [4 7 6]\n",
            " [1 9 1]\n",
            " [4 7 7]]\n",
            "este es el F \n",
            " [[1 9]\n",
            " [4 7]\n",
            " [1 6]\n",
            " [4 6]\n",
            " [4 1]\n",
            " [7 7]]\n",
            "este es el C \n",
            " [[1 4]\n",
            " [6 4]\n",
            " [7 6]\n",
            " [1 9]\n",
            " [1 4]\n",
            " [7 7]]\n",
            "este es el A \n",
            " [[1 4]\n",
            " [6 4]\n",
            " [7 6]\n",
            " [1 9]\n",
            " [1 4]\n",
            " [7 7]]\n"
          ]
        }
      ]
    },
    {
      "cell_type": "code",
      "source": [
        ""
      ],
      "metadata": {
        "id": "vT6OghSUBUQ7"
      },
      "execution_count": null,
      "outputs": []
    }
  ]
}