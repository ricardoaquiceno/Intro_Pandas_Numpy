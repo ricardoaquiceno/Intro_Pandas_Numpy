{
  "nbformat": 4,
  "nbformat_minor": 0,
  "metadata": {
    "colab": {
      "name": "NumpyBasics.ipynb",
      "provenance": [],
      "collapsed_sections": [
        "F65ow1A8kr2V",
        "c8IFZYwhk2xz",
        "eSS6bO0BzJZ-",
        "xIZniEbwdeFV",
        "x63eoaF-5N_a"
      ],
      "authorship_tag": "ABX9TyONVLHcNFAFoX6QeoJ2Km5t",
      "include_colab_link": true
    },
    "kernelspec": {
      "name": "python3",
      "display_name": "Python 3"
    },
    "language_info": {
      "name": "python"
    }
  },
  "cells": [
    {
      "cell_type": "markdown",
      "metadata": {
        "id": "view-in-github",
        "colab_type": "text"
      },
      "source": [
        "<a href=\"https://colab.research.google.com/github/ricardoaquiceno/Intro_Pandas_Numpy/blob/main/NumpyBasics.ipynb\" target=\"_parent\"><img src=\"https://colab.research.google.com/assets/colab-badge.svg\" alt=\"Open In Colab\"/></a>"
      ]
    },
    {
      "cell_type": "code",
      "execution_count": null,
      "metadata": {
        "id": "fkMR0pgGg-O0"
      },
      "outputs": [],
      "source": [
        "import numpy as np"
      ]
    },
    {
      "cell_type": "markdown",
      "source": [
        "## Basics about arrays, index and matrix"
      ],
      "metadata": {
        "id": "F65ow1A8kr2V"
      }
    },
    {
      "cell_type": "code",
      "source": [
        "my_list=[1,2,3,5,6,4]\n",
        "print(my_list)"
      ],
      "metadata": {
        "colab": {
          "base_uri": "https://localhost:8080/"
        },
        "id": "8M6MHeT5ieTf",
        "outputId": "0aba3217-1afe-428f-db7d-6da0b68bb273"
      },
      "execution_count": null,
      "outputs": [
        {
          "output_type": "stream",
          "name": "stdout",
          "text": [
            "[1, 2, 3, 5, 6, 4]\n"
          ]
        }
      ]
    },
    {
      "cell_type": "code",
      "source": [
        "my_nparray=np.array(my_list)\n",
        "my_npmatrix=np.array([[1,2,3],[4,5,6],[7,8,9]])\n",
        "print(my_npmatrix)\n",
        "type(my_nparray)"
      ],
      "metadata": {
        "colab": {
          "base_uri": "https://localhost:8080/"
        },
        "id": "QQYYIJSNiypZ",
        "outputId": "b998e0ff-8303-44c8-d247-9b448fee7c5b"
      },
      "execution_count": null,
      "outputs": [
        {
          "output_type": "stream",
          "name": "stdout",
          "text": [
            "[[1 2 3]\n",
            " [4 5 6]\n",
            " [7 8 9]]\n"
          ]
        },
        {
          "output_type": "execute_result",
          "data": {
            "text/plain": [
              "numpy.ndarray"
            ]
          },
          "metadata": {},
          "execution_count": 4
        }
      ]
    },
    {
      "cell_type": "code",
      "source": [
        "#To index arrays and matrixes\n",
        "print(my_nparray[2])\n",
        "print(\"Matrix index 0,1: \", my_npmatrix[0,1])\n",
        "print(\"Matrix index 1,2: \", my_npmatrix[1,2])"
      ],
      "metadata": {
        "colab": {
          "base_uri": "https://localhost:8080/"
        },
        "id": "6-V7LBxLnW98",
        "outputId": "d3d86896-9cf6-4e34-fc17-dab0cddaba78"
      },
      "execution_count": null,
      "outputs": [
        {
          "output_type": "stream",
          "name": "stdout",
          "text": [
            "3\n",
            "index 0,1:  2\n",
            "index 1,2:  6\n"
          ]
        }
      ]
    },
    {
      "cell_type": "code",
      "source": [
        "#SLICING\n",
        "arr= np.array([1,2,3,4,5])\n",
        "print(len(arr))\n",
        "print(arr[0:2])\n",
        "print(my_npmatrix[0:2,1:])"
      ],
      "metadata": {
        "colab": {
          "base_uri": "https://localhost:8080/"
        },
        "id": "zdIqNiljn8RE",
        "outputId": "5573cdc2-146f-4ef1-98df-c97973ab1c69"
      },
      "execution_count": null,
      "outputs": [
        {
          "output_type": "stream",
          "name": "stdout",
          "text": [
            "5\n",
            "[1 2]\n",
            "[[2 3]\n",
            " [5 6]]\n"
          ]
        }
      ]
    },
    {
      "cell_type": "markdown",
      "source": [
        "## Data Types in Numpy\n"
      ],
      "metadata": {
        "id": "c8IFZYwhk2xz"
      }
    },
    {
      "cell_type": "markdown",
      "source": [
        "data types can be found here: https://numpy.org/doc/stable/user/basics.types.html\n",
        "\n",
        "**WARNING: numpy arrays ONLY ACCEPT ONY TYPE OF VARIABLE PER ARRAY. **\n"
      ],
      "metadata": {
        "id": "jmZC9k9arrHV"
      }
    },
    {
      "cell_type": "code",
      "source": [
        "#First, lets see what type is our previously created array\n",
        "my_list=[1,2,3,5,6,4]\n",
        "my_nparray=np.array(my_list)\n",
        "my_nparray.dtype"
      ],
      "metadata": {
        "colab": {
          "base_uri": "https://localhost:8080/"
        },
        "id": "9ad-uNKwk83T",
        "outputId": "abbe0b46-813a-4baf-c45c-53d71cfe2779"
      },
      "execution_count": null,
      "outputs": [
        {
          "output_type": "execute_result",
          "data": {
            "text/plain": [
              "dtype('int64')"
            ]
          },
          "metadata": {},
          "execution_count": 4
        }
      ]
    },
    {
      "cell_type": "code",
      "source": [
        "#We can modify the default type of the array by adding an additional parameter to the function np.array( ) \n",
        "new_array=np.array(my_list, dtype=\"float64\")\n",
        "print(new_array)\n",
        "print(new_array.dtype)"
      ],
      "metadata": {
        "colab": {
          "base_uri": "https://localhost:8080/"
        },
        "id": "nU9aM3G4nKl3",
        "outputId": "34988bfc-4a50-4e4a-b9f2-a3ed7f94d175"
      },
      "execution_count": null,
      "outputs": [
        {
          "output_type": "stream",
          "name": "stdout",
          "text": [
            "[1. 2. 3. 5. 6. 4.]\n",
            "float64\n"
          ]
        }
      ]
    },
    {
      "cell_type": "code",
      "source": [
        "#we can also modify the type of an already created array\n",
        "array=np.array([0,1,0,2,3,5,9])\n",
        "print(array.dtype)\n",
        "print(array)\n",
        "array=array.astype(np.float64) #Converting to float 64\n",
        "print(array.dtype)\n",
        "print(array)\n",
        "array=array.astype(np.bool_) #Converting to Booleans: Note that when using Bool, all non zero values are true and only zero values are false. \n",
        "print(array.dtype)\n",
        "print(array)\n",
        "array=np.array([0,1,0,2,3,5,9])\n",
        "array=array.astype(np.string_) #Note that when using string, the system transforms to the string representation of the numbers\n",
        "#Take into account that one cannot convert from a string to an int if the string is not a numeric representation, so 'hola' cannot be converted from \n",
        "#string to Int\n",
        "print(array.dtype)\n",
        "print(array)\n"
      ],
      "metadata": {
        "colab": {
          "base_uri": "https://localhost:8080/"
        },
        "id": "gA6grh-vpkKz",
        "outputId": "b93a2a4d-8faa-464f-da1d-147605384b22"
      },
      "execution_count": null,
      "outputs": [
        {
          "output_type": "stream",
          "name": "stdout",
          "text": [
            "int64\n",
            "[0 1 0 2 3 5 9]\n",
            "float64\n",
            "[0. 1. 0. 2. 3. 5. 9.]\n",
            "bool\n",
            "[False  True False  True  True  True  True]\n",
            "|S21\n",
            "[b'0' b'1' b'0' b'2' b'3' b'5' b'9']\n"
          ]
        }
      ]
    },
    {
      "cell_type": "markdown",
      "source": [
        "## Dimensiones\n"
      ],
      "metadata": {
        "id": "eSS6bO0BzJZ-"
      }
    },
    {
      "cell_type": "code",
      "source": [
        "# We create an scalar wich has dimension 0\n",
        "scalar= np.array(12)\n",
        "print(scalar)\n",
        "scalar.ndim"
      ],
      "metadata": {
        "colab": {
          "base_uri": "https://localhost:8080/"
        },
        "id": "pbudxwdp1Rtk",
        "outputId": "7ee69540-94ab-4b9e-ef7d-58b40219e215"
      },
      "execution_count": null,
      "outputs": [
        {
          "output_type": "stream",
          "name": "stdout",
          "text": [
            "12\n"
          ]
        },
        {
          "output_type": "execute_result",
          "data": {
            "text/plain": [
              "0"
            ]
          },
          "metadata": {},
          "execution_count": 11
        }
      ]
    },
    {
      "cell_type": "code",
      "source": [
        "# We create a vector wich has dimension 1\n",
        "vector= np.array([1,2,3])\n",
        "print(vector)\n",
        "vector.ndim"
      ],
      "metadata": {
        "colab": {
          "base_uri": "https://localhost:8080/"
        },
        "id": "aBk-VR0416Sw",
        "outputId": "3bcf9b14-ecb8-4c7b-b92d-99d000c305e4"
      },
      "execution_count": null,
      "outputs": [
        {
          "output_type": "stream",
          "name": "stdout",
          "text": [
            "[1 2 3]\n"
          ]
        },
        {
          "output_type": "execute_result",
          "data": {
            "text/plain": [
              "1"
            ]
          },
          "metadata": {},
          "execution_count": 12
        }
      ]
    },
    {
      "cell_type": "code",
      "source": [
        "# We create a Matrix wich has dimension 2\n",
        "matrix= np.array([[1,2,3],[3,4,5]])\n",
        "print(matrix)\n",
        "matrix.ndim"
      ],
      "metadata": {
        "colab": {
          "base_uri": "https://localhost:8080/"
        },
        "id": "NjmZgQdA2RPk",
        "outputId": "98dca5d4-e504-46ac-fe9f-585dddd9bea0"
      },
      "execution_count": null,
      "outputs": [
        {
          "output_type": "stream",
          "name": "stdout",
          "text": [
            "[[1 2 3]\n",
            " [3 4 5]]\n"
          ]
        },
        {
          "output_type": "execute_result",
          "data": {
            "text/plain": [
              "2"
            ]
          },
          "metadata": {},
          "execution_count": 14
        }
      ]
    },
    {
      "cell_type": "code",
      "source": [
        "# We create an object wich has dimension 3\n",
        "#IMPORTANT the amount of squared braces \"[]\" helps to determine the amount of dimensions when one creates them. see that here at the\n",
        "#we have np.array([[[.....]]])\n",
        "threedob= np.array([[[1,2,3],[3,4,5]],[[6,7,8],[9,10,11]]])\n",
        "print(threedob)\n",
        "threedob.ndim"
      ],
      "metadata": {
        "colab": {
          "base_uri": "https://localhost:8080/"
        },
        "id": "LVJpY_G42hTf",
        "outputId": "b7fb9bc9-faa2-40a4-9a2e-9e934e18efa4"
      },
      "execution_count": null,
      "outputs": [
        {
          "output_type": "stream",
          "name": "stdout",
          "text": [
            "[[[ 1  2  3]\n",
            "  [ 3  4  5]]\n",
            "\n",
            " [[ 6  7  8]\n",
            "  [ 9 10 11]]]\n"
          ]
        },
        {
          "output_type": "execute_result",
          "data": {
            "text/plain": [
              "3"
            ]
          },
          "metadata": {},
          "execution_count": 17
        }
      ]
    },
    {
      "cell_type": "markdown",
      "source": [
        "ADD or remove dimensions\n"
      ],
      "metadata": {
        "id": "3O8m0UcF4nAr"
      }
    },
    {
      "cell_type": "code",
      "source": [
        "#We can create an object with the desired dimentions when declaring it and adding the parameter ndmin=n\n",
        "vector= np.array([1,2,3],ndmin=10)\n",
        "print(vector)\n",
        "vector.ndim"
      ],
      "metadata": {
        "colab": {
          "base_uri": "https://localhost:8080/"
        },
        "id": "vAEQ3C7F5QgI",
        "outputId": "a63874b8-5c39-49cc-ebcd-65d3e185ded9"
      },
      "execution_count": null,
      "outputs": [
        {
          "output_type": "stream",
          "name": "stdout",
          "text": [
            "[[[[[[[[[[1 2 3]]]]]]]]]]\n"
          ]
        },
        {
          "output_type": "execute_result",
          "data": {
            "text/plain": [
              "10"
            ]
          },
          "metadata": {},
          "execution_count": 18
        }
      ]
    },
    {
      "cell_type": "code",
      "source": [
        "#To remove dimensions that we are not using we can use np.squeeze(my_array)\n",
        "print(\"vector1 = \", vector)\n",
        "print(\" dim \", vector.ndim)\n",
        "vector2=np.squeeze(vector)\n",
        "print(\"vector2 = \",vector2)\n",
        "print(\" dim \",vector2.ndim)"
      ],
      "metadata": {
        "colab": {
          "base_uri": "https://localhost:8080/"
        },
        "id": "UlsFJAxtiw6e",
        "outputId": "e0f96fdd-1d11-4a88-ba0d-1c94ed8a428a"
      },
      "execution_count": null,
      "outputs": [
        {
          "output_type": "stream",
          "name": "stdout",
          "text": [
            "vector1 =  [[[[[[[[[[1 2 3]]]]]]]]]]\n",
            " dim  10\n",
            "vector2 =  [1 2 3]\n",
            " dim  1\n"
          ]
        }
      ]
    },
    {
      "cell_type": "code",
      "source": [
        "#We can expand the dimensions of an array with the .expand_dims function \n",
        "# https://numpy.org/doc/stable/reference/generated/numpy.expand_dims.html?highlight=numpy%20expand#numpy.expand_dims\n",
        "array= np.array([1,2,3])\n",
        "expand= np.expand_dims(array,axis=0)\n",
        "print(\"array: \", array)\n",
        "print(\"expanded array: \",expand)\n",
        "print(expand.ndim)"
      ],
      "metadata": {
        "colab": {
          "base_uri": "https://localhost:8080/"
        },
        "id": "ydUKy-AF6o-L",
        "outputId": "26256c48-9469-49ca-ab38-1bd62cecbe21"
      },
      "execution_count": null,
      "outputs": [
        {
          "output_type": "stream",
          "name": "stdout",
          "text": [
            "array:  [1 2 3]\n",
            "expanded array:  [[1 2 3]]\n",
            "2\n"
          ]
        }
      ]
    },
    {
      "cell_type": "markdown",
      "source": [
        "## Creando arrays en Numpy"
      ],
      "metadata": {
        "id": "xIZniEbwdeFV"
      }
    },
    {
      "cell_type": "code",
      "source": [
        "#As python has range(start, end, step), numpy has np.arange(start,end, step), the difference is that \n",
        "# range creates and iterable object and to turn it into a list, we need to cast it like list(py_range)\n",
        "py_range=range(0,10)\n",
        "np_arange=np.arange(0,10)\n",
        "print(py_range)\n",
        "print(list(py_range))\n",
        "print(np_arange)"
      ],
      "metadata": {
        "colab": {
          "base_uri": "https://localhost:8080/"
        },
        "id": "yRFOTWcQdhfK",
        "outputId": "ee77b633-8181-413a-8cb4-e0c078e4cd00"
      },
      "execution_count": null,
      "outputs": [
        {
          "output_type": "stream",
          "name": "stdout",
          "text": [
            "[0 1 2 3 4 5 6 7 8 9]\n"
          ]
        }
      ]
    },
    {
      "cell_type": "code",
      "source": [
        "#ZEROS this is an important function to create matrixes that contain zeros\n",
        "#IMPORTANT: it receives a tuple () that defines the dimensions (rows,columns,3rddim,4thdim, ndim) \n",
        "zeros=np.zeros((2,2,2))\n",
        "print(zeros)"
      ],
      "metadata": {
        "colab": {
          "base_uri": "https://localhost:8080/"
        },
        "id": "2OxwUrTmeKuS",
        "outputId": "c56d9dfe-8d47-4e2e-fab5-4ee3a4e75416"
      },
      "execution_count": null,
      "outputs": [
        {
          "output_type": "stream",
          "name": "stdout",
          "text": [
            "[[[0. 0.]\n",
            "  [0. 0.]]\n",
            "\n",
            " [[0. 0.]\n",
            "  [0. 0.]]]\n"
          ]
        }
      ]
    },
    {
      "cell_type": "code",
      "source": [
        "#ONES this is an important function to create matrixes that contain ones\n",
        "#IMPORTANT: it receives a tuple () that defines the dimensions (rows,columns,3rddim,4thdim, ndim) \n",
        "ones=np.ones((2,2,2))\n",
        "print(ones)\n"
      ],
      "metadata": {
        "colab": {
          "base_uri": "https://localhost:8080/"
        },
        "id": "YIdBbm8sgLRQ",
        "outputId": "8f904813-8281-4521-b8f5-c22ee70ec81f"
      },
      "execution_count": null,
      "outputs": [
        {
          "output_type": "stream",
          "name": "stdout",
          "text": [
            "[[[1. 1.]\n",
            "  [1. 1.]]\n",
            "\n",
            " [[1. 1.]\n",
            "  [1. 1.]]]\n"
          ]
        }
      ]
    },
    {
      "cell_type": "code",
      "source": [
        "#With linspace(start,end,#elements), one can create an array of #elemnts from start to end equaly spaced between them.\n",
        "a= np.linspace(0,4,3 )\n",
        "N=8\n",
        "x1 = np.linspace(0, 10, N, endpoint=True)#the flag endpoint says if the end is inclusive or not, by default is\n",
        "x2 = np.linspace(0, 10, N, endpoint=False)\n",
        "print(a)\n",
        "print(x1)\n",
        "print(x2)\n"
      ],
      "metadata": {
        "colab": {
          "base_uri": "https://localhost:8080/"
        },
        "id": "fxdxFqYRhV5n",
        "outputId": "cc292d86-ddf9-44a8-b3c2-3a073289f96d"
      },
      "execution_count": null,
      "outputs": [
        {
          "output_type": "stream",
          "name": "stdout",
          "text": [
            "[0. 2. 4.]\n",
            "[ 0.          1.42857143  2.85714286  4.28571429  5.71428571  7.14285714\n",
            "  8.57142857 10.        ]\n",
            "[0.   1.25 2.5  3.75 5.   6.25 7.5  8.75]\n"
          ]
        }
      ]
    },
    {
      "cell_type": "code",
      "source": [
        "#EYE it is a function to generate an identity matrix 2dims, the parameter n=rows=colums as is an identity matrix\n",
        "identity=np.eye(4)\n",
        "print(identity)"
      ],
      "metadata": {
        "colab": {
          "base_uri": "https://localhost:8080/"
        },
        "id": "pXj1grR1j-OT",
        "outputId": "80374773-8360-46cd-a299-4e3d3bbaadb2"
      },
      "execution_count": null,
      "outputs": [
        {
          "output_type": "stream",
          "name": "stdout",
          "text": [
            "[[1. 0. 0. 0.]\n",
            " [0. 1. 0. 0.]\n",
            " [0. 0. 1. 0.]\n",
            " [0. 0. 0. 1.]]\n"
          ]
        }
      ]
    },
    {
      "cell_type": "code",
      "source": [
        "#random.rand(rows,columns,3dim...) and random.randint(start,end,(rows,cols,3dim...))\n",
        "random=np.random.rand(2,3,2)\n",
        "print(random)\n",
        "randomint=np.random.randint(1,100,(3,3))\n",
        "print(randomint)"
      ],
      "metadata": {
        "colab": {
          "base_uri": "https://localhost:8080/"
        },
        "id": "3V24DFknk2cd",
        "outputId": "2ba1c0a1-d86a-4eda-9b79-1db0069625c3"
      },
      "execution_count": null,
      "outputs": [
        {
          "output_type": "stream",
          "name": "stdout",
          "text": [
            "[[[0.20774775 0.53695494]\n",
            "  [0.45284129 0.33183532]\n",
            "  [0.04488583 0.29292163]]\n",
            "\n",
            " [[0.94257438 0.31942715]\n",
            "  [0.17806263 0.90507159]\n",
            "  [0.65886084 0.73457219]]]\n",
            "[[1 1 1]\n",
            " [1 1 1]\n",
            " [1 1 1]]\n"
          ]
        }
      ]
    },
    {
      "cell_type": "markdown",
      "source": [
        "# shape and reshape\n",
        "https://numpy.org/doc/stable/reference/generated/numpy.reshape.html#numpy.reshape"
      ],
      "metadata": {
        "id": "x63eoaF-5N_a"
      }
    },
    {
      "cell_type": "code",
      "source": [
        "#shape is a function that helps us to know the dimensions of an array, not the number of dimensions but the amount of rows, columns, 3d and so on\n",
        "arr= np.random.randint(1,10,(3,3))\n",
        "print(arr)\n",
        "print(\"\\n the shape of the array is:\", arr.shape)"
      ],
      "metadata": {
        "colab": {
          "base_uri": "https://localhost:8080/"
        },
        "id": "exnokJUV5T-u",
        "outputId": "13dafbab-c9e5-47f1-b6f5-fece74c8179f"
      },
      "execution_count": null,
      "outputs": [
        {
          "output_type": "stream",
          "name": "stdout",
          "text": [
            "[[4 7 9]\n",
            " [2 6 3]\n",
            " [1 5 4]]\n",
            "\n",
            " the shape of the array is:  (3, 3)\n"
          ]
        }
      ]
    },
    {
      "cell_type": "code",
      "source": [
        "# on the other hand, reshape allows us to re accommodate the previously mentioned dimensions\n",
        "arr2=arr.reshape(1,9) #one can directly aply the method reshape to an array \n",
        "#one can also call np.reshape(array, (rows,cols...))\n",
        "arr3=np.reshape(arr2,(9,1))\n",
        "\n",
        "print(arr2)\n",
        "print(arr3)\n",
        "\n"
      ],
      "metadata": {
        "colab": {
          "base_uri": "https://localhost:8080/"
        },
        "id": "IxYe3Auk7d51",
        "outputId": "bba12f89-e64e-42bf-b73b-d407cd151172"
      },
      "execution_count": null,
      "outputs": [
        {
          "output_type": "stream",
          "name": "stdout",
          "text": [
            "[[4 7 9 2 6 3 1 5 4]]\n",
            "[[4]\n",
            " [7]\n",
            " [9]\n",
            " [2]\n",
            " [6]\n",
            " [3]\n",
            " [1]\n",
            " [5]\n",
            " [4]]\n"
          ]
        }
      ]
    },
    {
      "cell_type": "code",
      "source": [
        "#One can re shape with 3 options 'C','F', 'A'\n",
        "reshapeex=np.random.randint(1,10,(4,3))\n",
        "print(reshapeex)\n",
        "print(\"este es el F \\n\", reshapeex.reshape(6,2,order='F'))#F is the option to reshape reading through the columns in order\n",
        "print(\"este es el C \\n\", reshapeex.reshape(6,2,order='C'))#C is the option to reshape reading through the rows in order\n",
        "print(\"este es el A \\n\", reshapeex.reshape(6,2,order='A'))# Chooses whichever is the most efficient for the specific environment"
      ],
      "metadata": {
        "colab": {
          "base_uri": "https://localhost:8080/"
        },
        "id": "vOj3bRNh8Iao",
        "outputId": "25adf415-2120-4d68-9555-dcce07e4f395"
      },
      "execution_count": null,
      "outputs": [
        {
          "output_type": "stream",
          "name": "stdout",
          "text": [
            "[[1 4 6]\n",
            " [4 7 6]\n",
            " [1 9 1]\n",
            " [4 7 7]]\n",
            "este es el F \n",
            " [[1 9]\n",
            " [4 7]\n",
            " [1 6]\n",
            " [4 6]\n",
            " [4 1]\n",
            " [7 7]]\n",
            "este es el C \n",
            " [[1 4]\n",
            " [6 4]\n",
            " [7 6]\n",
            " [1 9]\n",
            " [1 4]\n",
            " [7 7]]\n",
            "este es el A \n",
            " [[1 4]\n",
            " [6 4]\n",
            " [7 6]\n",
            " [1 9]\n",
            " [1 4]\n",
            " [7 7]]\n"
          ]
        }
      ]
    },
    {
      "cell_type": "code",
      "source": [
        ""
      ],
      "metadata": {
        "id": "vT6OghSUBUQ7"
      },
      "execution_count": null,
      "outputs": []
    },
    {
      "cell_type": "markdown",
      "source": [
        "# Funciones principales\n",
        "https://numpy.org/doc/stable/reference/routines.math.html\n",
        "\n",
        "https://numpy.org/doc/stable/reference/routines.statistics.html\n"
      ],
      "metadata": {
        "id": "Qr-60Ws7yTYj"
      }
    },
    {
      "cell_type": "code",
      "source": [
        "arr= np.random.randint(1,20,10)\n",
        "matriz= arr.reshape(2,5)\n",
        "print(arr)\n",
        "print(matriz)"
      ],
      "metadata": {
        "colab": {
          "base_uri": "https://localhost:8080/"
        },
        "id": "EHHygWS6yXo8",
        "outputId": "910ed2d0-311d-460b-80f5-a0b49a0b5dba"
      },
      "execution_count": null,
      "outputs": [
        {
          "output_type": "stream",
          "name": "stdout",
          "text": [
            "[ 3 11 17  6  8  9 10  9 19 19]\n",
            "[[ 3 11 17  6  8]\n",
            " [ 9 10  9 19 19]]\n"
          ]
        }
      ]
    },
    {
      "cell_type": "markdown",
      "source": [
        "IMPORTANT, for max,min, argmax. If one uses options for the comparison the vale 0 will always be the comparison of the values from the same position of all the previous dimensions over all the positions of the last dimension\n",
        "this means, if I have a 3d array, the value 0 will compare the same position i,j for all k, in other words, it will compare the max between\n",
        "\n",
        "0,0,0 0,0,1 0,0,2 0,0,n and give the max \n",
        "\n",
        "0,1,0 0,1,1 0,1,2 0,1,n and give that max \n",
        "\n",
        ".\n",
        "\n",
        ".        .\n",
        "\n",
        ".          .         .\n",
        "\n",
        "i,j,0   i,j,1   i,j,2  i,j,n  and give the max of them\n",
        "\n",
        "Also, take into account that the value 1 will be n-1, meaning that the comparison for a 3d array if i choose the option \"1\" will be a comparison through the colums and 2 will be a comparison over the rows."
      ],
      "metadata": {
        "id": "sdlyjJAhEOTs"
      }
    },
    {
      "cell_type": "code",
      "source": [
        "#.max() helps to find the maximum of an array \n",
        "print(arr)\n",
        "print(\"max val of arr: \", arr.max())\n",
        "print(matriz)\n",
        "print(\"the max number from the whole matrix is\", matriz.max())\n",
        "print(\"the max number by rows is\", matriz.max(1))#with the option 1 I get the max from each one of the rows as the dimension is 2 and 2-1=1 so gives the comparison of the first dimension\n",
        "print(\"the max number by columns is\", matriz.max(0))# with the option 0 I get the max from the columns as the dimension is 2 and 2-0=2 so gives the comparison from the 2nd dimension, colums. "
      ],
      "metadata": {
        "colab": {
          "base_uri": "https://localhost:8080/"
        },
        "id": "Eux4JJnHy4kR",
        "outputId": "e7f20936-10a2-47b9-fd50-374444163cd8"
      },
      "execution_count": null,
      "outputs": [
        {
          "output_type": "stream",
          "name": "stdout",
          "text": [
            "[ 3 11 17  6  8  9 10  9 19 19]\n",
            "max val of arr:  19\n",
            "[[ 3 11 17  6  8]\n",
            " [ 9 10  9 19 19]]\n",
            "the max number from the whole matrix is 19\n",
            "the max number by rows is [17 19]\n",
            "the max number by columns is [ 9 11 17 19 19]\n"
          ]
        }
      ]
    },
    {
      "cell_type": "code",
      "source": [
        "# .argmax() if there is no argument, provides the index where the highest value is, taking into account that the index\n",
        "# corresponds to the most flattened way of the ndarray, meaning the index in 1 dimension. Moreover, if there are 2 values \n",
        "# max values, gives the index of the first one found.\n",
        "trejd=np.random.randint(1,20,(3,3,3))\n",
        "print(trejd)\n",
        "print(\"the index of the max from the object is\", trejd.argmax())# gives the argument for the flattened matrix\n",
        "print(\"the max number by rows is \\n\", trejd.max(2))\n",
        "print(\"the max number by rows is \\n\", trejd.max(1))\n",
        "print(\"the max number by columns is \\n\", trejd.max(0))\n"
      ],
      "metadata": {
        "colab": {
          "base_uri": "https://localhost:8080/"
        },
        "id": "Bmpz0kty2gIp",
        "outputId": "11ed665f-c909-448c-8bac-bd634b618b01"
      },
      "execution_count": null,
      "outputs": [
        {
          "output_type": "stream",
          "name": "stdout",
          "text": [
            "[[[10 12 19]\n",
            "  [14 18  1]\n",
            "  [ 6 19 12]]\n",
            "\n",
            " [[ 3 11 16]\n",
            "  [ 5 15 19]\n",
            "  [ 4 17 14]]\n",
            "\n",
            " [[ 5  5  6]\n",
            "  [19  1 16]\n",
            "  [ 2  7 12]]]\n",
            "the index of the max from the object is 2\n",
            "the max number by rows is \n",
            " [[19 18 19]\n",
            " [16 19 17]\n",
            " [ 6 19 12]]\n",
            "the max number by rows is \n",
            " [[14 19 19]\n",
            " [ 5 17 19]\n",
            " [19  7 16]]\n",
            "the max number by columns is \n",
            " [[10 12 19]\n",
            " [19 18 19]\n",
            " [ 6 19 14]]\n"
          ]
        }
      ]
    },
    {
      "cell_type": "code",
      "source": [
        "# this is just an example in 4 dimensions to understand the comparisons. \n",
        "cuatrod=np.random.randint(1,20,(2,2,2,2))\n",
        "print(cuatrod)\n",
        "print(\"the index of the max from the object is\", cuatrod.argmax())# gives the argument for the flattened matrix\n",
        "print(\"the max number by rows is \\n\", cuatrod.max(3))\n",
        "print(\"the max number by rows is \\n\", cuatrod.max(2))\n",
        "print(\"the max number by rows is \\n\", cuatrod.max(1))\n",
        "print(\"the max number by columns is \\n\", cuatrod.max(0))"
      ],
      "metadata": {
        "colab": {
          "base_uri": "https://localhost:8080/"
        },
        "id": "tvsbvrce4Khn",
        "outputId": "e42b31b6-ef83-4a41-cf13-df64e59ccbdd"
      },
      "execution_count": null,
      "outputs": [
        {
          "output_type": "stream",
          "name": "stdout",
          "text": [
            "[[[[13 12]\n",
            "   [ 1 12]]\n",
            "\n",
            "  [[ 8  9]\n",
            "   [ 8 10]]]\n",
            "\n",
            "\n",
            " [[[12  6]\n",
            "   [19  2]]\n",
            "\n",
            "  [[18  5]\n",
            "   [14  9]]]]\n",
            "the index of the max from the object is 10\n",
            "the max number by rows is \n",
            " [[[13 12]\n",
            "  [ 9 10]]\n",
            "\n",
            " [[12 19]\n",
            "  [18 14]]]\n",
            "the max number by rows is \n",
            " [[[13 12]\n",
            "  [ 8 10]]\n",
            "\n",
            " [[19  6]\n",
            "  [18  9]]]\n",
            "the max number by rows is \n",
            " [[[13 12]\n",
            "  [ 8 12]]\n",
            "\n",
            " [[18  6]\n",
            "  [19  9]]]\n",
            "the max number by columns is \n",
            " [[[13 12]\n",
            "  [19 12]]\n",
            "\n",
            " [[18  9]\n",
            "  [14 10]]]\n"
          ]
        }
      ]
    },
    {
      "cell_type": "code",
      "source": [
        "# .min() and .argmin(), opposites of .max() and .argmax()\n",
        "arr= np.random.randint(1,20,10)\n",
        "matriz= arr.reshape(2,5)\n",
        "print(arr)\n",
        "print(\"min val of arr: \", arr.min())\n",
        "print(matriz)\n",
        "print(\"the min number from the whole matrix is\", matriz.min())\n",
        "print(\"the max number by rows is\", matriz.min(1))#with the option 1 I get the max from each one of the rows as the dimension is 2 and 2-1=1 so gives the comparison of the first dimension\n",
        "print(\"the max number by columns is\", matriz.min(0))# with the option 0 I get the max from the columns as the dimension is 2 and 2-0=2 so gives the comparison from the 2nd dimension, colums. "
      ],
      "metadata": {
        "colab": {
          "base_uri": "https://localhost:8080/"
        },
        "id": "NZPtoKBQAScr",
        "outputId": "c619eee6-dbb1-4b98-dc86-eca282f23738"
      },
      "execution_count": null,
      "outputs": [
        {
          "output_type": "stream",
          "name": "stdout",
          "text": [
            "[14  9  6 18 17  6 11  4 17  2]\n",
            "min val of arr:  2\n",
            "[[14  9  6 18 17]\n",
            " [ 6 11  4 17  2]]\n",
            "the min number from the whole matrix is 2\n",
            "the max number by rows is [6 2]\n",
            "the max number by columns is [ 6  9  4 17  2]\n"
          ]
        }
      ]
    },
    {
      "cell_type": "code",
      "source": [
        "# .ptp() gives the distance between the minimum and the maximum of an ndarray\n",
        "print(\"this is the arr:\\n \",arr)\n",
        "print(\"ptp: \", arr.ptp())\n",
        "print(\"\\n this is the mtrix: \\n\",matriz)\n",
        "print(\"ptp by rows: \",matriz.ptp(1))\n",
        "print(\"ptp by cols: \", matriz.ptp(0))"
      ],
      "metadata": {
        "colab": {
          "base_uri": "https://localhost:8080/"
        },
        "id": "g25_ywJZKoD5",
        "outputId": "d1bd80f0-85ec-4569-9cb4-93c01a45f546"
      },
      "execution_count": null,
      "outputs": [
        {
          "output_type": "stream",
          "name": "stdout",
          "text": [
            "this is the arr:\n",
            "  [14  9  6 18 17  6 11  4 17  2]\n",
            "ptp:  16\n",
            "\n",
            " this is the mtrix: \n",
            " [[14  9  6 18 17]\n",
            " [ 6 11  4 17  2]]\n",
            "ptp by rows:  [12 15]\n",
            "ptp by cols:  [ 8  2  2  1 15]\n"
          ]
        }
      ]
    },
    {
      "cell_type": "code",
      "source": [
        "#Some functions for statistics: np.percentile(ndarr,percentile),  .sort(), np.median(arr), np.std(), np.var(), np.mean()\n",
        "arr= np.random.randint(1,20,10)\n",
        "print(arr)\n",
        "print(\"percentile: \", np.percentile(arr,40))\n",
        "arr.sort() #built in function that sorts the specific array, this cannot be assigned to another array, if one needs to assign it to another array, \n",
        "          #one must copy arr\n",
        "print(\"sorted array: \\n\", arr) \n",
        "print(\"median: \",np.median(arr)) # finds the median of an array\n",
        "print(\"std deviation: \", np.std(arr))# finds the standard deviation of an ndarray\n",
        "print(\"variance: \", np.var(arr))# finds the variance deviation of an ndarray\n",
        "print(\"mean: \", np.mean(matriz,0))# finds the mean of an ndarray\n"
      ],
      "metadata": {
        "colab": {
          "base_uri": "https://localhost:8080/"
        },
        "id": "uNABlIOYMAlo",
        "outputId": "742201f4-d662-4e1d-9a4f-362790ffe073"
      },
      "execution_count": null,
      "outputs": [
        {
          "output_type": "stream",
          "name": "stdout",
          "text": [
            "[18 19 18 11 17  9  3 19 17  2]\n",
            "percentile:  14.600000000000001\n",
            "sorted array: \n",
            " [ 2  3  9 11 17 17 18 18 19 19]\n",
            "median:  17.0\n",
            "std deviation:  6.277738446287803\n",
            "variance:  39.410000000000004\n",
            "mean:  [10.  10.   5.  17.5  9.5]\n"
          ]
        }
      ]
    },
    {
      "cell_type": "code",
      "source": [
        "# concatenate(a,b) helps to concatanate arrays, one must meet the criteria to appropriately concatanate\n",
        "# the rules are the dimensions, if one wants to concatenate to an 2x3 matrix, the array to concatenate must be of dimension 2 (matrix) \n",
        "# and size 1x3 for axis=0, or dimension=2 and size 2x1 for axis=1\n",
        "#WARNING I cannot concatenate an array to a matrix, thats why b and c are declared as matrixes, cause dimensions as well as size must agree\n",
        "a=np.array([[1,2,3],[3,4,5]])\n",
        "b=np.array([[1,7,8]])\n",
        "c= np.array([[9],[10]])\n",
        "print(a)\n",
        "print(np.concatenate((a,b),axis=0)) # here I am concatanating another row (axis=0)\n",
        "print(np.concatenate((a,c),axis=1)) # here I am concatenating another column (axis=1)"
      ],
      "metadata": {
        "colab": {
          "base_uri": "https://localhost:8080/"
        },
        "id": "ygShx6tHVac9",
        "outputId": "9bd02a97-5c8f-4e60-bb22-90694d6cd365"
      },
      "execution_count": null,
      "outputs": [
        {
          "output_type": "stream",
          "name": "stdout",
          "text": [
            "[[1 2 3]\n",
            " [3 4 5]]\n",
            "[[1 2 3]\n",
            " [3 4 5]\n",
            " [1 7 8]]\n",
            "[[ 1  2  3  9]\n",
            " [ 3  4  5 10]]\n"
          ]
        }
      ]
    },
    {
      "cell_type": "code",
      "source": [
        "# .T this function gives the transpose of a matrix\n",
        "a=np.array([[1,2,3],[3,4,5]])\n",
        "aT= a.T\n",
        "print(a,\"\\n\")\n",
        "print(aT)"
      ],
      "metadata": {
        "colab": {
          "base_uri": "https://localhost:8080/"
        },
        "id": "Qz2hfg1LYM7_",
        "outputId": "8da63854-49e5-48f8-f74a-ffe70562e112"
      },
      "execution_count": null,
      "outputs": [
        {
          "output_type": "stream",
          "name": "stdout",
          "text": [
            "[[1 2 3]\n",
            " [3 4 5]] \n",
            "\n",
            "[[1 3]\n",
            " [2 4]\n",
            " [3 5]]\n"
          ]
        }
      ]
    },
    {
      "cell_type": "markdown",
      "source": [
        "#Copy\n",
        "Copy is a really important comand as python internally does not create automatic copies, this means, if I create a matrix \"a\" and then I assign to another variable \"b\", an slice of the main matrix, whenever I modify that variable b, I am modifying \"a\" as pythons is pointing to the same memory space, here is where copy comes handy. "
      ],
      "metadata": {
        "id": "Iy01XXi7cd6L"
      }
    },
    {
      "cell_type": "code",
      "source": [
        "a=np.array([[1,2],[3,4]])\n",
        "b=a[0,:]\n",
        "print(\"this is a prio modifying b: \\n\",a)\n",
        "print(\"this is b: \", b)\n",
        "b[0]=2\n",
        "print(\"this is a after modifying b: \\n\",a) #as you can see, I am modifying b but a gets modified"
      ],
      "metadata": {
        "colab": {
          "base_uri": "https://localhost:8080/"
        },
        "id": "NrzM8SbUcdn9",
        "outputId": "a980270c-978b-4486-a1e8-dc80e94634b1"
      },
      "execution_count": null,
      "outputs": [
        {
          "output_type": "stream",
          "name": "stdout",
          "text": [
            "this is a prio modifying b: \n",
            " [[1 2]\n",
            " [3 4]]\n",
            "this is b:  [1 2]\n",
            "this is a after modifying b: \n",
            " [[1 2]\n",
            " [3 4]]\n"
          ]
        }
      ]
    },
    {
      "cell_type": "code",
      "source": [
        "a=np.array([[1,2],[3,4]])\n",
        "ac=a.copy()\n",
        "b=ac[0,:]\n",
        "print(\"this is a prio modifying b: \\n\",a)\n",
        "print(\"this is b: \", b)\n",
        "b[0]=2\n",
        "print(\"this is b modified: \", b)\n",
        "print(\"this is a after modifying b: \\n\",a) #as you can see, using copy we dont get the original a modified"
      ],
      "metadata": {
        "colab": {
          "base_uri": "https://localhost:8080/"
        },
        "id": "K1ALLUgPev4T",
        "outputId": "c995c0bf-b104-4b32-eaa4-69a5b1587d1c"
      },
      "execution_count": null,
      "outputs": [
        {
          "output_type": "stream",
          "name": "stdout",
          "text": [
            "this is a prio modifying b: \n",
            " [[1 2]\n",
            " [3 4]]\n",
            "this is b:  [1 2]\n",
            "this is b modified:  [2 2]\n",
            "this is a after modifying b: \n",
            " [[1 2]\n",
            " [3 4]]\n"
          ]
        }
      ]
    },
    {
      "cell_type": "markdown",
      "source": [
        "#Conditions\n",
        "One can make conditions directly in the indexing of the arrays, this is really useful to make fast flterings"
      ],
      "metadata": {
        "id": "Jf52PDLxn9CU"
      }
    },
    {
      "cell_type": "code",
      "source": [
        "a=np.linspace(1,8,8)\n",
        "print(a)\n",
        "b=a[a>6]\n",
        "print(b)\n",
        "a[a==1]=3\n",
        "print(a)\n",
        "b=a[(a>4)&(a<7)]\n",
        "print(b)"
      ],
      "metadata": {
        "colab": {
          "base_uri": "https://localhost:8080/"
        },
        "id": "JePrILTQoAtt",
        "outputId": "714ce430-1858-4e30-ba99-af614677a69d"
      },
      "execution_count": null,
      "outputs": [
        {
          "output_type": "stream",
          "name": "stdout",
          "text": [
            "[1. 2. 3. 4. 5. 6. 7. 8.]\n",
            "[7. 8.]\n",
            "[3. 2. 3. 4. 5. 6. 7. 8.]\n",
            "[5. 6.]\n"
          ]
        }
      ]
    },
    {
      "cell_type": "code",
      "source": [
        ""
      ],
      "metadata": {
        "id": "FofcQrh2qExq"
      },
      "execution_count": null,
      "outputs": []
    },
    {
      "cell_type": "markdown",
      "source": [
        "#Operaciones\n",
        "In numpy, when one aplies arithmetic operations to an array, it works directly to each of the values of the array, so if I want to sum x value I just have to do arr + x and all the individual values of arr will be summed with x. same with different operations. \n",
        "Please note that this is not always possible with python lists "
      ],
      "metadata": {
        "id": "MsEdjrPXqlOc"
      }
    },
    {
      "cell_type": "code",
      "source": [
        "milist= list([1,2,3,4])\n",
        "print(milist*2)"
      ],
      "metadata": {
        "colab": {
          "base_uri": "https://localhost:8080/"
        },
        "id": "J2rHQgWqqppd",
        "outputId": "1c6a1724-2433-4f45-f4b8-71e08ee60bd5"
      },
      "execution_count": null,
      "outputs": [
        {
          "output_type": "stream",
          "name": "stdout",
          "text": [
            "[1, 2, 3, 4, 1, 2, 3, 4]\n"
          ]
        }
      ]
    },
    {
      "cell_type": "code",
      "source": [
        "arr = np.arange(0,10)\n",
        "arr2 = arr.copy()\n",
        "print(arr * 2)\n",
        "print(arr + 2)\n",
        "print(1 / arr )\n",
        "print(arr ** 2)\n",
        "print(arr + arr2)\n",
        "print(arr - arr2)\n",
        "print(arr * arr2)\n"
      ],
      "metadata": {
        "colab": {
          "base_uri": "https://localhost:8080/"
        },
        "id": "xkDRYPhwuNl2",
        "outputId": "873a717a-b7b8-44e1-948c-5211171d5fb5"
      },
      "execution_count": null,
      "outputs": [
        {
          "output_type": "stream",
          "name": "stdout",
          "text": [
            "[ 0  2  4  6  8 10 12 14 16 18]\n",
            "[ 2  3  4  5  6  7  8  9 10 11]\n",
            "[       inf 1.         0.5        0.33333333 0.25       0.2\n",
            " 0.16666667 0.14285714 0.125      0.11111111]\n",
            "[ 0  1  4  9 16 25 36 49 64 81]\n"
          ]
        },
        {
          "output_type": "stream",
          "name": "stderr",
          "text": [
            "/usr/local/lib/python3.7/dist-packages/ipykernel_launcher.py:5: RuntimeWarning: divide by zero encountered in true_divide\n",
            "  \"\"\"\n"
          ]
        }
      ]
    },
    {
      "cell_type": "code",
      "source": [
        "matriz = arr.reshape(2,5)\n",
        "matriz2 = matriz.copy()\n",
        "print(matriz)\n",
        "print(matriz + matriz2)\n",
        "print(matriz - matriz2)\n",
        "print(matriz2.T)\n",
        "print(np.matmul(matriz,matriz2.T)) # this is the dot product \n",
        "print(matriz @ matriz2.T)# this is the dot product in a different sintaxis. \n"
      ],
      "metadata": {
        "colab": {
          "base_uri": "https://localhost:8080/"
        },
        "id": "pzbnZLpovUq0",
        "outputId": "7e7439d0-c611-4a2d-9a09-8eb6d3be1a03"
      },
      "execution_count": null,
      "outputs": [
        {
          "output_type": "stream",
          "name": "stdout",
          "text": [
            "[[0 1 2 3 4]\n",
            " [5 6 7 8 9]]\n",
            "[[ 0  2  4  6  8]\n",
            " [10 12 14 16 18]]\n",
            "[[0 0 0 0 0]\n",
            " [0 0 0 0 0]]\n",
            "[[0 5]\n",
            " [1 6]\n",
            " [2 7]\n",
            " [3 8]\n",
            " [4 9]]\n",
            "[[ 30  80]\n",
            " [ 80 255]]\n",
            "[[ 30  80]\n",
            " [ 80 255]]\n"
          ]
        }
      ]
    }
  ]
}