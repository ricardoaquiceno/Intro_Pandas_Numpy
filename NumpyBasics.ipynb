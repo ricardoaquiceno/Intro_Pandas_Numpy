{
  "nbformat": 4,
  "nbformat_minor": 0,
  "metadata": {
    "colab": {
      "name": "NumpyBasics.ipynb",
      "provenance": [],
      "authorship_tag": "ABX9TyPjc/FNegOEvgCFqyeqDzVg",
      "include_colab_link": true
    },
    "kernelspec": {
      "name": "python3",
      "display_name": "Python 3"
    },
    "language_info": {
      "name": "python"
    }
  },
  "cells": [
    {
      "cell_type": "markdown",
      "metadata": {
        "id": "view-in-github",
        "colab_type": "text"
      },
      "source": [
        "<a href=\"https://colab.research.google.com/github/ricardoaquiceno/Intro_Pandas_Numpy/blob/main/NumpyBasics.ipynb\" target=\"_parent\"><img src=\"https://colab.research.google.com/assets/colab-badge.svg\" alt=\"Open In Colab\"/></a>"
      ]
    },
    {
      "cell_type": "code",
      "execution_count": 3,
      "metadata": {
        "id": "fkMR0pgGg-O0"
      },
      "outputs": [],
      "source": [
        "import numpy as np"
      ]
    },
    {
      "cell_type": "markdown",
      "source": [
        "## Basics about arrays, index and matrix"
      ],
      "metadata": {
        "id": "F65ow1A8kr2V"
      }
    },
    {
      "cell_type": "code",
      "source": [
        "my_list=[1,2,3,5,6,4]\n",
        "print(my_list)"
      ],
      "metadata": {
        "colab": {
          "base_uri": "https://localhost:8080/"
        },
        "id": "8M6MHeT5ieTf",
        "outputId": "ae8afc50-2232-4ed9-e14a-21d3171dfd77"
      },
      "execution_count": null,
      "outputs": [
        {
          "output_type": "stream",
          "name": "stdout",
          "text": [
            "[1, 2, 3, 5, 6, 4]\n"
          ]
        }
      ]
    },
    {
      "cell_type": "code",
      "source": [
        "my_nparray=np.array(my_list)\n",
        "my_npmatrix=np.array([[1,2,3],[4,5,6],[7,8,9]])\n",
        "print(my_npmatrix)\n",
        "type(my_nparray)"
      ],
      "metadata": {
        "colab": {
          "base_uri": "https://localhost:8080/"
        },
        "id": "QQYYIJSNiypZ",
        "outputId": "8b0cc6ce-4a22-43b4-d810-a773eb414abe"
      },
      "execution_count": null,
      "outputs": [
        {
          "output_type": "stream",
          "name": "stdout",
          "text": [
            "[[1 2 3]\n",
            " [4 5 6]\n",
            " [7 8 9]]\n"
          ]
        },
        {
          "output_type": "execute_result",
          "data": {
            "text/plain": [
              "numpy.ndarray"
            ]
          },
          "metadata": {},
          "execution_count": 9
        }
      ]
    },
    {
      "cell_type": "code",
      "source": [
        "#To index arrays and matrixes\n",
        "print(my_nparray[2])\n",
        "print(\"Matrix index 0,1: \", my_npmatrix[0,1])\n",
        "print(\"Matrix index 1,2: \", my_npmatrix[1,2])"
      ],
      "metadata": {
        "colab": {
          "base_uri": "https://localhost:8080/"
        },
        "id": "6-V7LBxLnW98",
        "outputId": "d3d86896-9cf6-4e34-fc17-dab0cddaba78"
      },
      "execution_count": null,
      "outputs": [
        {
          "output_type": "stream",
          "name": "stdout",
          "text": [
            "3\n",
            "index 0,1:  2\n",
            "index 1,2:  6\n"
          ]
        }
      ]
    },
    {
      "cell_type": "code",
      "source": [
        "#SLICING\n",
        "arr= np.array([1,2,3,4,5])\n",
        "print(len(arr))\n",
        "print(arr[0:2])\n",
        "print(my_npmatrix[0:2,1:])"
      ],
      "metadata": {
        "colab": {
          "base_uri": "https://localhost:8080/"
        },
        "id": "zdIqNiljn8RE",
        "outputId": "5573cdc2-146f-4ef1-98df-c97973ab1c69"
      },
      "execution_count": null,
      "outputs": [
        {
          "output_type": "stream",
          "name": "stdout",
          "text": [
            "5\n",
            "[1 2]\n",
            "[[2 3]\n",
            " [5 6]]\n"
          ]
        }
      ]
    },
    {
      "cell_type": "markdown",
      "source": [
        "### Data Types in Numpy"
      ],
      "metadata": {
        "id": "c8IFZYwhk2xz"
      }
    },
    {
      "cell_type": "markdown",
      "source": [
        "data types can be found here: https://numpy.org/doc/stable/user/basics.types.html\n",
        "\n",
        "**WARNING: numpy arrays ONLY ACCEPT ONY TYPE OF VARIABLE PER ARRAY. **\n"
      ],
      "metadata": {
        "id": "jmZC9k9arrHV"
      }
    },
    {
      "cell_type": "code",
      "source": [
        "#First, lets see what type is our previously created array\n",
        "my_list=[1,2,3,5,6,4]\n",
        "my_nparray=np.array(my_list)\n",
        "my_nparray.dtype"
      ],
      "metadata": {
        "colab": {
          "base_uri": "https://localhost:8080/"
        },
        "id": "9ad-uNKwk83T",
        "outputId": "abbe0b46-813a-4baf-c45c-53d71cfe2779"
      },
      "execution_count": 4,
      "outputs": [
        {
          "output_type": "execute_result",
          "data": {
            "text/plain": [
              "dtype('int64')"
            ]
          },
          "metadata": {},
          "execution_count": 4
        }
      ]
    },
    {
      "cell_type": "code",
      "source": [
        "#We can modify the default type of the array by adding an additional parameter to the function np.array( ) \n",
        "new_array=np.array(my_list, dtype=\"float64\")\n",
        "print(new_array)\n",
        "print(new_array.dtype)"
      ],
      "metadata": {
        "colab": {
          "base_uri": "https://localhost:8080/"
        },
        "id": "nU9aM3G4nKl3",
        "outputId": "34988bfc-4a50-4e4a-b9f2-a3ed7f94d175"
      },
      "execution_count": 5,
      "outputs": [
        {
          "output_type": "stream",
          "name": "stdout",
          "text": [
            "[1. 2. 3. 5. 6. 4.]\n",
            "float64\n"
          ]
        }
      ]
    },
    {
      "cell_type": "code",
      "source": [
        "#we can also modify the type of an already created array\n",
        "array=np.array([0,1,0,2,3,5,9])\n",
        "print(array.dtype)\n",
        "print(array)\n",
        "array=array.astype(np.float64) #Converting to float 64\n",
        "print(array.dtype)\n",
        "print(array)\n",
        "array=array.astype(np.bool_) #Converting to Booleans: Note that when using Bool, all non zero values are true and only zero values are false. \n",
        "print(array.dtype)\n",
        "print(array)\n",
        "array=np.array([0,1,0,2,3,5,9])\n",
        "array=array.astype(np.string_) #Note that when using string, the system transforms to the string representation of the numbers\n",
        "#Take into account that one cannot convert from a string to an int if the string is not a numeric representation, so 'hola' cannot be converted from \n",
        "#string to Int\n",
        "print(array.dtype)\n",
        "print(array)\n"
      ],
      "metadata": {
        "colab": {
          "base_uri": "https://localhost:8080/"
        },
        "id": "gA6grh-vpkKz",
        "outputId": "b93a2a4d-8faa-464f-da1d-147605384b22"
      },
      "execution_count": 10,
      "outputs": [
        {
          "output_type": "stream",
          "name": "stdout",
          "text": [
            "int64\n",
            "[0 1 0 2 3 5 9]\n",
            "float64\n",
            "[0. 1. 0. 2. 3. 5. 9.]\n",
            "bool\n",
            "[False  True False  True  True  True  True]\n",
            "|S21\n",
            "[b'0' b'1' b'0' b'2' b'3' b'5' b'9']\n"
          ]
        }
      ]
    }
  ]
}